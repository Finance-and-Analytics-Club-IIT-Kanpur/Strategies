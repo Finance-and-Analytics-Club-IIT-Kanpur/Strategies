{
  "nbformat": 4,
  "nbformat_minor": 0,
  "metadata": {
    "colab": {
      "provenance": []
    },
    "kernelspec": {
      "name": "python3",
      "display_name": "Python 3"
    },
    "language_info": {
      "name": "python"
    }
  },
  "cells": [
    {
      "cell_type": "code",
      "execution_count": 1,
      "metadata": {
        "id": "D78UPliuFSbX"
      },
      "outputs": [],
      "source": [
        "import pandas as pd\n",
        "import numpy as np"
      ]
    },
    {
      "cell_type": "code",
      "source": [
        "#Measures strength of trend\n",
        "def aroon(df,period=14):\n",
        "  df['aroon_up']=df['High'].rolling(window=period).apply(lambda x: (x.argmax()-x.argmin())/period,raw=True)\n",
        "  df['aroon_down']=df['Low'].rolling(window=period).apply(lambda x: (x.argmax()-x.argmin())/period,raw=True)"
      ],
      "metadata": {
        "id": "NO9V5Ty3FZBB"
      },
      "execution_count": 5,
      "outputs": []
    },
    {
      "cell_type": "code",
      "source": [
        "#Smoothens data for beter trend identification\n",
        "def heiken_ashi(df):\n",
        "  df['ha_close']=(df['Open']+df['High']+df['Low']+df['Close'])/4\n",
        "  df['ha_open']=df['ha_close'].shift(1)\n",
        "  df['ha_high']=df[['ha_close','ha_open','High']].max(axis=1)\n",
        "  df['ha_low']=df[['ha_close','ha_open','Low']].min(axis=1)\n",
        "  df['heiken_ashi']=df.apply(lambda row: 'bullish' if row['ha_close'] > row['ha_open'] else 'bearish', axis=1)\n",
        "  df.drop(['ha_open','ha_high','ha_low'],axis=1,inplace=True)\n",
        "  return df"
      ],
      "metadata": {
        "id": "SYSjZH8YGNNd"
      },
      "execution_count": 6,
      "outputs": []
    },
    {
      "cell_type": "code",
      "source": [
        "def aroon_heikenashi(df):\n",
        "  df=heiken_ashi(df)\n",
        "  df=aroon(df)\n",
        "  df['signals']=0\n",
        "  for i in range(1,len(df)):\n",
        "    if(df['aroon_up'][i]>70 and df['heiken_ashi'][i]=='bullish'):\n",
        "      df['signals'][i]=1\n",
        "    elif(df['aroon_down'][i]>70 and df['heiken_ashi'][i]=='bearish'):\n",
        "      df['signals'][i]=-1\n",
        "  return df"
      ],
      "metadata": {
        "id": "cZ5b7yXzMSBy"
      },
      "execution_count": 4,
      "outputs": []
    }
  ]
}